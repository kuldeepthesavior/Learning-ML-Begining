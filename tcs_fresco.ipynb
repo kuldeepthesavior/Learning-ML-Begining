{
 "cells": [
  {
   "cell_type": "code",
   "execution_count": 1,
   "metadata": {},
   "outputs": [
    {
     "name": "stderr",
     "output_type": "stream",
     "text": [
      "Using TensorFlow backend.\n"
     ]
    }
   ],
   "source": [
    "from keras.datasets import fashion_mnist\n",
    "from keras.utils import to_categorical\n",
    "import numpy as np\n"
   ]
  },
  {
   "cell_type": "code",
   "execution_count": 5,
   "metadata": {},
   "outputs": [],
   "source": [
    "\n",
    "# load dataset\n",
    "(trainX, trainy), (testX, testy) = fashion_mnist.load_data()\n",
    "# load train and test dataset\n",
    "def load_dataset():\n",
    "    # load dataset\n",
    "    (trainX, trainy), (testX, testY) = fashion_mnist.load_data()\n",
    "    # reshape dataset to have a single channel\n",
    "    trainX = trainX.reshape((trainX.shape[0], 28, 28, 1))\n",
    "    testX = testX.reshape((testX.shape[0], 28, 28, 1))\n",
    "    # one hot encode target values\n",
    "    trainy = to_categorical(trainy)\n",
    "    testY = to_categorical(testY)\n",
    "    return trainX, trainy, testX, testY\n",
    "\n"
   ]
  },
  {
   "cell_type": "code",
   "execution_count": 14,
   "metadata": {},
   "outputs": [],
   "source": [
    "seed=9\n",
    "\n",
    "from sklearn.model_selection import StratifiedShuffleSplit\n",
    "\n",
    "data_split = StratifiedShuffleSplit(1,test_size=0.08,random_state=seed )\n",
    "for train_index, test_index in data_split.split(trainX, trainy):\n",
    "\n",
    "    split_data_92, split_data_8 = trainX[train_index], trainX[test_index]\n",
    "\n",
    "    split_label_92, split_label_8 = trainy[train_index], trainy[test_index]\n",
    "train_test_split = StratifiedShuffleSplit( 1,test_size=0.3,random_state=seed)\n",
    "#test_size=0.3 denotes that 30 % of the dataset is used for testing.\n",
    "\n"
   ]
  },
  {
   "cell_type": "code",
   "execution_count": 15,
   "metadata": {},
   "outputs": [
    {
     "name": "stdout",
     "output_type": "stream",
     "text": [
      "train_data :  (3360, 28, 28)\n",
      "train_labels :  (3360,)\n",
      "test_data :  (1440, 28, 28)\n",
      "test_labels :  (1440,)\n"
     ]
    }
   ],
   "source": [
    "\n",
    "\n",
    "for train_index, test_index in train_test_split.split(split_data_8,split_label_8):\n",
    "\n",
    "    train_data_70, test_data_30 = split_data_8[train_index], split_data_8[test_index]\n",
    "\n",
    "    train_label_70, test_label_30 = split_label_8[train_index], split_label_8[test_index]\n",
    "train_data = train_data_70 #assigning to variable train_data\n",
    "\n",
    "train_labels = train_label_70 #assigning to variable train_labels\n",
    "\n",
    "test_data = test_data_30\n",
    "\n",
    "test_labels = test_label_30\n",
    "print('train_data : ',    train_data.shape                )\n",
    "\n",
    "print('train_labels : ',    train_labels.shape             )\n",
    "\n",
    "print('test_data : ',       test_data.shape            )\n",
    "\n",
    "print('test_labels : ',      test_labels.shape          )\n"
   ]
  },
  {
   "cell_type": "code",
   "execution_count": 16,
   "metadata": {},
   "outputs": [
    {
     "name": "stdout",
     "output_type": "stream",
     "text": [
      "train_data:  (3360, 28, 28)\n",
      "test_data:  (1440, 28, 28)\n"
     ]
    }
   ],
   "source": [
    "\n",
    "# definition of normalization function\n",
    "\n",
    "def normalize(data, eps=1e-8):\n",
    "\n",
    "    data -=data.mean(axis=(0,1,2),keepdims=True)\n",
    "\n",
    "    std =np.sqrt(data.var(axis=(0,1,2),ddof=1,keepdims=True))\n",
    "\n",
    "    std[std < eps] = 1.\n",
    "\n",
    "    data /= std\n",
    "\n",
    "    return data\n",
    "train_data=train_data.astype('float64')\n",
    "test_data=test_data.astype('float64')\n",
    "# calling the function\n",
    "\n",
    "train_data = normalize(train_data)\n",
    "\n",
    "test_data = normalize(test_data)\n",
    "# prints the shape of train data and test data\n",
    "\n",
    "print('train_data: ',   train_data.shape        )\n",
    "\n",
    "print('test_data: ',   test_data.shape        )\n",
    "\n"
   ]
  },
  {
   "cell_type": "code",
   "execution_count": 17,
   "metadata": {},
   "outputs": [
    {
     "name": "stdout",
     "output_type": "stream",
     "text": [
      "train_data_flat:  (784, 3360)\n",
      "test_data_flat:  (784, 1440)\n"
     ]
    }
   ],
   "source": [
    "\n",
    "# Computing whitening matrix\n",
    "\n",
    "train_data_flat = train_data.reshape(train_data.shape[0], -1).T\n",
    "\n",
    "test_data_flat = test_data.reshape(test_data.shape[0], -1).T\n",
    "\n",
    "print('train_data_flat: ',   train_data_flat.shape       )\n",
    "\n",
    "print('test_data_flat: ',         test_data_flat.shape      )\n",
    "\n",
    "\n",
    "\n",
    "train_data_flat_t = train_data_flat.T\n",
    "\n",
    "test_data_flat_t = test_data_flat.T\n"
   ]
  },
  {
   "cell_type": "code",
   "execution_count": 18,
   "metadata": {},
   "outputs": [
    {
     "name": "stdout",
     "output_type": "stream",
     "text": [
      "pca train (784, 784)\n",
      "pca test (784, 784)\n"
     ]
    }
   ],
   "source": [
    "\n",
    "from sklearn.decomposition import PCA\n",
    "\n",
    "# n_components specify the no.of components to keep\n",
    "\n",
    "train_data_pca =PCA(n_components=train_data_flat.shape[0]).fit_transform(train_data_flat)\n",
    "\n",
    "test_data_pca =PCA(n_components=test_data_flat.shape[0]).fit_transform(test_data_flat)\n",
    "#\n",
    "print(     'pca train', train_data_pca.shape           )\n",
    "\n",
    "print(    'pca test',   test_data_pca.shape       )\n",
    "\n",
    "train_data_pca = train_data_pca.T\n",
    "\n",
    "test_data_pca = test_data_pca.T"
   ]
  },
  {
   "cell_type": "code",
   "execution_count": null,
   "metadata": {},
   "outputs": [],
   "source": []
  }
 ],
 "metadata": {
  "kernelspec": {
   "display_name": "Python 3",
   "language": "python",
   "name": "python3"
  },
  "language_info": {
   "codemirror_mode": {
    "name": "ipython",
    "version": 3
   },
   "file_extension": ".py",
   "mimetype": "text/x-python",
   "name": "python",
   "nbconvert_exporter": "python",
   "pygments_lexer": "ipython3",
   "version": "3.7.3"
  }
 },
 "nbformat": 4,
 "nbformat_minor": 2
}
